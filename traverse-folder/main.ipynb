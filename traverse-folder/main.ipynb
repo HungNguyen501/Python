{
 "cells": [
  {
   "cell_type": "code",
   "execution_count": 28,
   "id": "a089e09f",
   "metadata": {},
   "outputs": [],
   "source": [
    "import os\n",
    "import re"
   ]
  },
  {
   "cell_type": "code",
   "execution_count": 114,
   "id": "e0c76d2d",
   "metadata": {},
   "outputs": [
    {
     "data": {
      "text/plain": [
       "'D:\\\\OneDrive\\\\IELTS\\\\Intensive Course\\\\Writing'"
      ]
     },
     "execution_count": 114,
     "metadata": {},
     "output_type": "execute_result"
    }
   ],
   "source": [
    "dir_path = \"D:\\OneDrive\\IELTS\\Intensive Course\\Writing\"\n",
    "dir_path"
   ]
  },
  {
   "cell_type": "code",
   "execution_count": 156,
   "id": "ce93d544",
   "metadata": {},
   "outputs": [],
   "source": [
    "def traverse_dir(dir_path=None):\n",
    "    for root, dirs, files in os.walk(dir_path):\n",
    "        path = root.split(os.sep)\n",
    "        print(os.path.basename(root))\n",
    "        print(root)\n",
    "        for file in files:\n",
    "            print(file)\n",
    "            \n",
    "        return files"
   ]
  },
  {
   "cell_type": "code",
   "execution_count": 157,
   "id": "ca1ca0ad",
   "metadata": {},
   "outputs": [],
   "source": [
    "def rename_file(dir_path=None, li_files=[]):\n",
    "    for file in li_files:\n",
    "        s = \"21_04_17\" \n",
    "        if s in file:\n",
    "            new_name = re.sub(s, \"21_04_17\", file)\n",
    "            os.rename(dir_path + \"\\\\\" + file, dir_path + \"\\\\\" + new_name)\n",
    "        \n",
    "#             print(file)\n",
    "#             print(new_name)"
   ]
  },
  {
   "cell_type": "code",
   "execution_count": 158,
   "id": "72277a20",
   "metadata": {},
   "outputs": [],
   "source": [
    "# li_files = traverse_dir(dir_path)\n",
    "# li_files"
   ]
  },
  {
   "cell_type": "code",
   "execution_count": 159,
   "id": "62c62b42",
   "metadata": {},
   "outputs": [],
   "source": [
    "# rename_file(dir_path, li_files=li_files)"
   ]
  },
  {
   "cell_type": "code",
   "execution_count": null,
   "id": "fda0ac66",
   "metadata": {},
   "outputs": [],
   "source": []
  },
  {
   "cell_type": "code",
   "execution_count": null,
   "id": "cb2485e8",
   "metadata": {},
   "outputs": [],
   "source": []
  },
  {
   "cell_type": "code",
   "execution_count": null,
   "id": "67241c58",
   "metadata": {},
   "outputs": [],
   "source": []
  }
 ],
 "metadata": {
  "kernelspec": {
   "display_name": "Python 3",
   "language": "python",
   "name": "python3"
  },
  "language_info": {
   "codemirror_mode": {
    "name": "ipython",
    "version": 3
   },
   "file_extension": ".py",
   "mimetype": "text/x-python",
   "name": "python",
   "nbconvert_exporter": "python",
   "pygments_lexer": "ipython3",
   "version": "3.7.3"
  }
 },
 "nbformat": 4,
 "nbformat_minor": 5
}
