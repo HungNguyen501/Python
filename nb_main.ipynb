{
 "cells": [
  {
   "cell_type": "code",
   "execution_count": 1,
   "id": "f777204f",
   "metadata": {},
   "outputs": [],
   "source": [
    "from joblib import Parallel, delayed\n",
    "import time\n",
    "import numpy as np\n",
    "import pandas as pd"
   ]
  },
  {
   "cell_type": "code",
   "execution_count": 7,
   "id": "4be3cfc0",
   "metadata": {},
   "outputs": [],
   "source": [
    "# Create sample CSV files\n",
    "for file_number in range(10):\n",
    "    values = np.random.uniform(size=(20000,25))\n",
    "    pd.DataFrame(values).to_csv(f\"Dummy {file_number}.csv\")"
   ]
  },
  {
   "cell_type": "code",
   "execution_count": 8,
   "id": "3be3561f",
   "metadata": {},
   "outputs": [
    {
     "name": "stdout",
     "output_type": "stream",
     "text": [
      "CSV: 1.992445468902588\n"
     ]
    }
   ],
   "source": [
    "start = time.time()\n",
    "df = pd.read_csv(\"Dummy 0.csv\")\n",
    "\n",
    "for file_number in range(1,10):\n",
    "    df.append(pd.read_csv(f\"Dummy {file_number}.csv\"))\n",
    "    \n",
    "end = time.time()\n",
    "print(\"CSV:\", end - start)"
   ]
  },
  {
   "cell_type": "code",
   "execution_count": 9,
   "id": "e5d8c664",
   "metadata": {},
   "outputs": [
    {
     "name": "stdout",
     "output_type": "stream",
     "text": [
      "CSV2: 1.7971904277801514\n"
     ]
    }
   ],
   "source": [
    "start = time.time()\n",
    "df = []\n",
    "\n",
    "for file_number in range(10):\n",
    "    temp = pd.read_csv(f\"Dummy {file_number}.csv\")\n",
    "    df.append(temp)\n",
    "    \n",
    "df = pd.concat(df, ignore_index=True)\n",
    "end = time.time()\n",
    "print(\"CSV2:\", end - start)"
   ]
  },
  {
   "cell_type": "code",
   "execution_count": 12,
   "id": "42ace4b1",
   "metadata": {},
   "outputs": [
    {
     "name": "stderr",
     "output_type": "stream",
     "text": [
      "[Parallel(n_jobs=-1)]: Using backend LokyBackend with 4 concurrent workers.\n",
      "[Parallel(n_jobs=-1)]: Done   5 out of  10 | elapsed:    2.1s remaining:    2.1s\n",
      "[Parallel(n_jobs=-1)]: Done   7 out of  10 | elapsed:    2.2s remaining:    0.9s\n"
     ]
    },
    {
     "name": "stdout",
     "output_type": "stream",
     "text": [
      "CSV//: 2.5630033016204834\n"
     ]
    },
    {
     "name": "stderr",
     "output_type": "stream",
     "text": [
      "[Parallel(n_jobs=-1)]: Done  10 out of  10 | elapsed:    2.4s finished\n"
     ]
    }
   ],
   "source": [
    "start = time.time()\n",
    "\n",
    "def loop(file_number):\n",
    "    return pd.read_csv(f\"Dummy {file_number}.csv\")\n",
    "\n",
    "df = Parallel(n_jobs=-1, verbose=10)(delayed(loop)(file_number) for file_number in range(10))\n",
    "df = pd.concat(df, ignore_index=True)\n",
    "\n",
    "end = time.time()\n",
    "print(\"CSV//:\", end - start)\n"
   ]
  },
  {
   "cell_type": "code",
   "execution_count": null,
   "id": "a1c88cca",
   "metadata": {},
   "outputs": [],
   "source": []
  },
  {
   "cell_type": "code",
   "execution_count": 10,
   "id": "6725f4fc",
   "metadata": {},
   "outputs": [
    {
     "name": "stderr",
     "output_type": "stream",
     "text": [
      "C:\\Users\\X1YOGA~1\\AppData\\Local\\Temp/ipykernel_11656/3418876397.py:2: FutureWarning: In a future version of pandas all arguments of DataFrame.drop except for the argument 'labels' will be keyword-only\n",
      "  df1 = df1.drop(['msisdn'],1)\n"
     ]
    },
    {
     "data": {
      "text/html": [
       "<div>\n",
       "<style scoped>\n",
       "    .dataframe tbody tr th:only-of-type {\n",
       "        vertical-align: middle;\n",
       "    }\n",
       "\n",
       "    .dataframe tbody tr th {\n",
       "        vertical-align: top;\n",
       "    }\n",
       "\n",
       "    .dataframe thead th {\n",
       "        text-align: right;\n",
       "    }\n",
       "</style>\n",
       "<table border=\"1\" class=\"dataframe\">\n",
       "  <thead>\n",
       "    <tr style=\"text-align: right;\">\n",
       "      <th></th>\n",
       "      <th>STAFF_CODE</th>\n",
       "      <th>MOBILE_DISP_NAME</th>\n",
       "      <th>ISSUE_DATE</th>\n",
       "      <th>VIETTEL_BANK_CODE</th>\n",
       "      <th>PSGD</th>\n",
       "      <th>PSGD_Chitieu</th>\n",
       "      <th>goi</th>\n",
       "      <th>PROVINCE</th>\n",
       "      <th>DISTRICT</th>\n",
       "      <th>SHOP_CODE</th>\n",
       "      <th>CUSTOMER_TYPE_DATE</th>\n",
       "      <th>chungdd_channel_type</th>\n",
       "      <th>approver_code</th>\n",
       "      <th>dev_staff_code</th>\n",
       "      <th>report_day</th>\n",
       "      <th>channel_type</th>\n",
       "      <th>s_channel_type_id</th>\n",
       "      <th>s_type</th>\n",
       "      <th>s_staff_code</th>\n",
       "    </tr>\n",
       "  </thead>\n",
       "  <tbody>\n",
       "    <tr>\n",
       "      <th>0</th>\n",
       "      <td>NaN</td>\n",
       "      <td>QUANG THỊ HỒNG</td>\n",
       "      <td>29/08/21 9:27</td>\n",
       "      <td>VTT</td>\n",
       "      <td>Da PSGD</td>\n",
       "      <td>Da PSGD</td>\n",
       "      <td>goi1</td>\n",
       "      <td>B651</td>\n",
       "      <td>B651007</td>\n",
       "      <td>KYC</td>\n",
       "      <td>31/08/21 17:00</td>\n",
       "      <td>NaN</td>\n",
       "      <td>NaN</td>\n",
       "      <td>KYC</td>\n",
       "      <td>19/09/21</td>\n",
       "      <td>NaN</td>\n",
       "      <td>NaN</td>\n",
       "      <td>NaN</td>\n",
       "      <td>NaN</td>\n",
       "    </tr>\n",
       "    <tr>\n",
       "      <th>1</th>\n",
       "      <td>NaN</td>\n",
       "      <td>KC ĐUY S</td>\n",
       "      <td>22/02/20 8:43</td>\n",
       "      <td>VTT</td>\n",
       "      <td>Da PSGD</td>\n",
       "      <td>Da PSGD</td>\n",
       "      <td>goi1</td>\n",
       "      <td>P210</td>\n",
       "      <td>P210012</td>\n",
       "      <td>KYC</td>\n",
       "      <td>31/08/21 17:00</td>\n",
       "      <td>NaN</td>\n",
       "      <td>NaN</td>\n",
       "      <td>KYC</td>\n",
       "      <td>19/09/21</td>\n",
       "      <td>NaN</td>\n",
       "      <td>NaN</td>\n",
       "      <td>NaN</td>\n",
       "      <td>NaN</td>\n",
       "    </tr>\n",
       "    <tr>\n",
       "      <th>2</th>\n",
       "      <td>NaN</td>\n",
       "      <td>BÙI THỊ MAI</td>\n",
       "      <td>31/08/21 12:13</td>\n",
       "      <td>VTT</td>\n",
       "      <td>Chua PSGD</td>\n",
       "      <td>Chua PSGD</td>\n",
       "      <td>goi1</td>\n",
       "      <td>V064</td>\n",
       "      <td>V064001</td>\n",
       "      <td>KYC</td>\n",
       "      <td>31/08/21 17:00</td>\n",
       "      <td>NaN</td>\n",
       "      <td>NaN</td>\n",
       "      <td>KYC</td>\n",
       "      <td>19/09/21</td>\n",
       "      <td>NaN</td>\n",
       "      <td>NaN</td>\n",
       "      <td>NaN</td>\n",
       "      <td>NaN</td>\n",
       "    </tr>\n",
       "    <tr>\n",
       "      <th>3</th>\n",
       "      <td>NaN</td>\n",
       "      <td>LÊ THỊ HỒNG LOAN</td>\n",
       "      <td>31/08/21 17:00</td>\n",
       "      <td>VTT</td>\n",
       "      <td>Chua PSGD</td>\n",
       "      <td>Chua PSGD</td>\n",
       "      <td>goi1</td>\n",
       "      <td>D061</td>\n",
       "      <td>D061004</td>\n",
       "      <td>KYC</td>\n",
       "      <td>31/08/21 17:00</td>\n",
       "      <td>NaN</td>\n",
       "      <td>NaN</td>\n",
       "      <td>KYC</td>\n",
       "      <td>19/09/21</td>\n",
       "      <td>NaN</td>\n",
       "      <td>NaN</td>\n",
       "      <td>NaN</td>\n",
       "      <td>NaN</td>\n",
       "    </tr>\n",
       "    <tr>\n",
       "      <th>4</th>\n",
       "      <td>NaN</td>\n",
       "      <td>LÊ THỊ HOA</td>\n",
       "      <td>31/08/21 17:00</td>\n",
       "      <td>VTT</td>\n",
       "      <td>Da PSGD</td>\n",
       "      <td>Da PSGD</td>\n",
       "      <td>goi1</td>\n",
       "      <td>D061</td>\n",
       "      <td>D061001</td>\n",
       "      <td>KYC</td>\n",
       "      <td>31/08/21 17:00</td>\n",
       "      <td>NaN</td>\n",
       "      <td>NaN</td>\n",
       "      <td>KYC</td>\n",
       "      <td>19/09/21</td>\n",
       "      <td>NaN</td>\n",
       "      <td>NaN</td>\n",
       "      <td>NaN</td>\n",
       "      <td>NaN</td>\n",
       "    </tr>\n",
       "  </tbody>\n",
       "</table>\n",
       "</div>"
      ],
      "text/plain": [
       "  STAFF_CODE  MOBILE_DISP_NAME      ISSUE_DATE VIETTEL_BANK_CODE       PSGD  \\\n",
       "0        NaN    QUANG THỊ HỒNG   29/08/21 9:27               VTT    Da PSGD   \n",
       "1        NaN          KC ĐUY S   22/02/20 8:43               VTT    Da PSGD   \n",
       "2        NaN       BÙI THỊ MAI  31/08/21 12:13               VTT  Chua PSGD   \n",
       "3        NaN  LÊ THỊ HỒNG LOAN  31/08/21 17:00               VTT  Chua PSGD   \n",
       "4        NaN        LÊ THỊ HOA  31/08/21 17:00               VTT    Da PSGD   \n",
       "\n",
       "  PSGD_Chitieu   goi PROVINCE DISTRICT SHOP_CODE CUSTOMER_TYPE_DATE  \\\n",
       "0      Da PSGD  goi1     B651  B651007       KYC     31/08/21 17:00   \n",
       "1      Da PSGD  goi1     P210  P210012       KYC     31/08/21 17:00   \n",
       "2    Chua PSGD  goi1     V064  V064001       KYC     31/08/21 17:00   \n",
       "3    Chua PSGD  goi1     D061  D061004       KYC     31/08/21 17:00   \n",
       "4      Da PSGD  goi1     D061  D061001       KYC     31/08/21 17:00   \n",
       "\n",
       "  chungdd_channel_type  approver_code dev_staff_code report_day channel_type  \\\n",
       "0                  NaN            NaN            KYC   19/09/21          NaN   \n",
       "1                  NaN            NaN            KYC   19/09/21          NaN   \n",
       "2                  NaN            NaN            KYC   19/09/21          NaN   \n",
       "3                  NaN            NaN            KYC   19/09/21          NaN   \n",
       "4                  NaN            NaN            KYC   19/09/21          NaN   \n",
       "\n",
       "   s_channel_type_id  s_type s_staff_code  \n",
       "0                NaN     NaN          NaN  \n",
       "1                NaN     NaN          NaN  \n",
       "2                NaN     NaN          NaN  \n",
       "3                NaN     NaN          NaN  \n",
       "4                NaN     NaN          NaN  "
      ]
     },
     "execution_count": 10,
     "metadata": {},
     "output_type": "execute_result"
    }
   ],
   "source": [
    "df1 = pd.read_csv(\"D:\\\\Projects\\\\Python\\\\data\\\\donnn_20_09\\\\new.csv\")\n",
    "df1 = df1.drop(['msisdn'],1)\n",
    "df1.head()"
   ]
  },
  {
   "cell_type": "code",
   "execution_count": 11,
   "id": "cedf8d01",
   "metadata": {},
   "outputs": [
    {
     "name": "stderr",
     "output_type": "stream",
     "text": [
      "C:\\Users\\X1YOGA~1\\AppData\\Local\\Temp/ipykernel_11656/1701256483.py:2: FutureWarning: In a future version of pandas all arguments of DataFrame.drop except for the argument 'labels' will be keyword-only\n",
      "  df2 = df2.drop(['msisdn'],1)\n"
     ]
    },
    {
     "data": {
      "text/html": [
       "<div>\n",
       "<style scoped>\n",
       "    .dataframe tbody tr th:only-of-type {\n",
       "        vertical-align: middle;\n",
       "    }\n",
       "\n",
       "    .dataframe tbody tr th {\n",
       "        vertical-align: top;\n",
       "    }\n",
       "\n",
       "    .dataframe thead th {\n",
       "        text-align: right;\n",
       "    }\n",
       "</style>\n",
       "<table border=\"1\" class=\"dataframe\">\n",
       "  <thead>\n",
       "    <tr style=\"text-align: right;\">\n",
       "      <th></th>\n",
       "      <th>STAFF_CODE</th>\n",
       "      <th>MOBILE_DISP_NAME</th>\n",
       "      <th>ISSUE_DATE</th>\n",
       "      <th>VIETTEL_BANK_CODE</th>\n",
       "      <th>PSGD</th>\n",
       "      <th>PSGD_Chitieu</th>\n",
       "      <th>goi</th>\n",
       "      <th>PROVINCE</th>\n",
       "      <th>DISTRICT</th>\n",
       "      <th>SHOP_CODE</th>\n",
       "      <th>CUSTOMER_TYPE_DATE</th>\n",
       "      <th>chungdd_channel_type</th>\n",
       "      <th>approver_code</th>\n",
       "      <th>dev_staff_code</th>\n",
       "      <th>report_day</th>\n",
       "      <th>channel_type</th>\n",
       "      <th>s_channel_type_id</th>\n",
       "      <th>s_type</th>\n",
       "      <th>s_staff_code</th>\n",
       "    </tr>\n",
       "  </thead>\n",
       "  <tbody>\n",
       "    <tr>\n",
       "      <th>0</th>\n",
       "      <td>NaN</td>\n",
       "      <td>QUANG THỊ HỒNG</td>\n",
       "      <td>29/08/21 9:27</td>\n",
       "      <td>VTT</td>\n",
       "      <td>Da PSGD</td>\n",
       "      <td>Da PSGD</td>\n",
       "      <td>goi1</td>\n",
       "      <td>B651</td>\n",
       "      <td>B651007</td>\n",
       "      <td>KYC</td>\n",
       "      <td>31/08/21 17:00</td>\n",
       "      <td>NaN</td>\n",
       "      <td>NaN</td>\n",
       "      <td>KYC</td>\n",
       "      <td>19/09/21</td>\n",
       "      <td>NaN</td>\n",
       "      <td>NaN</td>\n",
       "      <td>NaN</td>\n",
       "      <td>NaN</td>\n",
       "    </tr>\n",
       "    <tr>\n",
       "      <th>1</th>\n",
       "      <td>NaN</td>\n",
       "      <td>KC ĐUY S</td>\n",
       "      <td>22/02/20 8:43</td>\n",
       "      <td>VTT</td>\n",
       "      <td>Da PSGD</td>\n",
       "      <td>Da PSGD</td>\n",
       "      <td>goi1</td>\n",
       "      <td>P210</td>\n",
       "      <td>P210012</td>\n",
       "      <td>KYC</td>\n",
       "      <td>31/08/21 17:00</td>\n",
       "      <td>NaN</td>\n",
       "      <td>NaN</td>\n",
       "      <td>KYC</td>\n",
       "      <td>19/09/21</td>\n",
       "      <td>NaN</td>\n",
       "      <td>NaN</td>\n",
       "      <td>NaN</td>\n",
       "      <td>NaN</td>\n",
       "    </tr>\n",
       "    <tr>\n",
       "      <th>2</th>\n",
       "      <td>NaN</td>\n",
       "      <td>BÙI THỊ MAI</td>\n",
       "      <td>31/08/21 12:13</td>\n",
       "      <td>VTT</td>\n",
       "      <td>Chua PSGD</td>\n",
       "      <td>Chua PSGD</td>\n",
       "      <td>goi1</td>\n",
       "      <td>V064</td>\n",
       "      <td>V064001</td>\n",
       "      <td>KYC</td>\n",
       "      <td>31/08/21 17:00</td>\n",
       "      <td>NaN</td>\n",
       "      <td>NaN</td>\n",
       "      <td>KYC</td>\n",
       "      <td>19/09/21</td>\n",
       "      <td>NaN</td>\n",
       "      <td>NaN</td>\n",
       "      <td>NaN</td>\n",
       "      <td>NaN</td>\n",
       "    </tr>\n",
       "    <tr>\n",
       "      <th>3</th>\n",
       "      <td>NaN</td>\n",
       "      <td>LÊ THỊ HỒNG LOAN</td>\n",
       "      <td>31/08/21 17:00</td>\n",
       "      <td>VTT</td>\n",
       "      <td>Chua PSGD</td>\n",
       "      <td>Chua PSGD</td>\n",
       "      <td>goi1</td>\n",
       "      <td>D061</td>\n",
       "      <td>D061004</td>\n",
       "      <td>KYC</td>\n",
       "      <td>31/08/21 17:00</td>\n",
       "      <td>NaN</td>\n",
       "      <td>NaN</td>\n",
       "      <td>KYC</td>\n",
       "      <td>19/09/21</td>\n",
       "      <td>NaN</td>\n",
       "      <td>NaN</td>\n",
       "      <td>NaN</td>\n",
       "      <td>NaN</td>\n",
       "    </tr>\n",
       "    <tr>\n",
       "      <th>4</th>\n",
       "      <td>NaN</td>\n",
       "      <td>LÊ THỊ HOA</td>\n",
       "      <td>31/08/21 17:00</td>\n",
       "      <td>VTT</td>\n",
       "      <td>Da PSGD</td>\n",
       "      <td>Da PSGD</td>\n",
       "      <td>goi1</td>\n",
       "      <td>D061</td>\n",
       "      <td>D061001</td>\n",
       "      <td>KYC</td>\n",
       "      <td>31/08/21 17:00</td>\n",
       "      <td>NaN</td>\n",
       "      <td>NaN</td>\n",
       "      <td>KYC</td>\n",
       "      <td>19/09/21</td>\n",
       "      <td>NaN</td>\n",
       "      <td>NaN</td>\n",
       "      <td>NaN</td>\n",
       "      <td>NaN</td>\n",
       "    </tr>\n",
       "  </tbody>\n",
       "</table>\n",
       "</div>"
      ],
      "text/plain": [
       "  STAFF_CODE  MOBILE_DISP_NAME      ISSUE_DATE VIETTEL_BANK_CODE       PSGD  \\\n",
       "0        NaN    QUANG THỊ HỒNG   29/08/21 9:27               VTT    Da PSGD   \n",
       "1        NaN          KC ĐUY S   22/02/20 8:43               VTT    Da PSGD   \n",
       "2        NaN       BÙI THỊ MAI  31/08/21 12:13               VTT  Chua PSGD   \n",
       "3        NaN  LÊ THỊ HỒNG LOAN  31/08/21 17:00               VTT  Chua PSGD   \n",
       "4        NaN        LÊ THỊ HOA  31/08/21 17:00               VTT    Da PSGD   \n",
       "\n",
       "  PSGD_Chitieu   goi PROVINCE DISTRICT SHOP_CODE CUSTOMER_TYPE_DATE  \\\n",
       "0      Da PSGD  goi1     B651  B651007       KYC     31/08/21 17:00   \n",
       "1      Da PSGD  goi1     P210  P210012       KYC     31/08/21 17:00   \n",
       "2    Chua PSGD  goi1     V064  V064001       KYC     31/08/21 17:00   \n",
       "3    Chua PSGD  goi1     D061  D061004       KYC     31/08/21 17:00   \n",
       "4      Da PSGD  goi1     D061  D061001       KYC     31/08/21 17:00   \n",
       "\n",
       "  chungdd_channel_type  approver_code dev_staff_code report_day channel_type  \\\n",
       "0                  NaN            NaN            KYC   19/09/21          NaN   \n",
       "1                  NaN            NaN            KYC   19/09/21          NaN   \n",
       "2                  NaN            NaN            KYC   19/09/21          NaN   \n",
       "3                  NaN            NaN            KYC   19/09/21          NaN   \n",
       "4                  NaN            NaN            KYC   19/09/21          NaN   \n",
       "\n",
       "   s_channel_type_id  s_type s_staff_code  \n",
       "0                NaN     NaN          NaN  \n",
       "1                NaN     NaN          NaN  \n",
       "2                NaN     NaN          NaN  \n",
       "3                NaN     NaN          NaN  \n",
       "4                NaN     NaN          NaN  "
      ]
     },
     "execution_count": 11,
     "metadata": {},
     "output_type": "execute_result"
    }
   ],
   "source": [
    "df2 = pd.read_csv(\"D:\\\\Projects\\\\Python\\\\data\\\\donnn_20_09\\\\old.csv\")\n",
    "df2 = df2.drop(['msisdn'],1)\n",
    "df2.head()"
   ]
  },
  {
   "cell_type": "code",
   "execution_count": 12,
   "id": "d47df710",
   "metadata": {},
   "outputs": [
    {
     "name": "stdout",
     "output_type": "stream",
     "text": [
      "<class 'pandas.core.frame.DataFrame'>\n",
      "RangeIndex: 367754 entries, 0 to 367753\n",
      "Data columns (total 19 columns):\n",
      " #   Column                Non-Null Count   Dtype  \n",
      "---  ------                --------------   -----  \n",
      " 0   STAFF_CODE            144112 non-null  object \n",
      " 1   MOBILE_DISP_NAME      367753 non-null  object \n",
      " 2   ISSUE_DATE            367754 non-null  object \n",
      " 3   VIETTEL_BANK_CODE     367754 non-null  object \n",
      " 4   PSGD                  367754 non-null  object \n",
      " 5   PSGD_Chitieu          367754 non-null  object \n",
      " 6   goi                   367754 non-null  object \n",
      " 7   PROVINCE              322255 non-null  object \n",
      " 8   DISTRICT              322212 non-null  object \n",
      " 9   SHOP_CODE             367720 non-null  object \n",
      " 10  CUSTOMER_TYPE_DATE    367754 non-null  object \n",
      " 11  chungdd_channel_type  144226 non-null  object \n",
      " 12  approver_code         68693 non-null   float64\n",
      " 13  dev_staff_code        367654 non-null  object \n",
      " 14  report_day            367754 non-null  object \n",
      " 15  channel_type          144226 non-null  object \n",
      " 16  s_channel_type_id     144112 non-null  float64\n",
      " 17  s_type                109674 non-null  float64\n",
      " 18  s_staff_code          144112 non-null  object \n",
      "dtypes: float64(3), object(16)\n",
      "memory usage: 53.3+ MB\n"
     ]
    }
   ],
   "source": [
    "df1.info()"
   ]
  },
  {
   "cell_type": "code",
   "execution_count": 13,
   "id": "a93d1030",
   "metadata": {},
   "outputs": [
    {
     "name": "stdout",
     "output_type": "stream",
     "text": [
      "<class 'pandas.core.frame.DataFrame'>\n",
      "RangeIndex: 367753 entries, 0 to 367752\n",
      "Data columns (total 19 columns):\n",
      " #   Column                Non-Null Count   Dtype  \n",
      "---  ------                --------------   -----  \n",
      " 0   STAFF_CODE            144112 non-null  object \n",
      " 1   MOBILE_DISP_NAME      367752 non-null  object \n",
      " 2   ISSUE_DATE            367753 non-null  object \n",
      " 3   VIETTEL_BANK_CODE     367753 non-null  object \n",
      " 4   PSGD                  367753 non-null  object \n",
      " 5   PSGD_Chitieu          367753 non-null  object \n",
      " 6   goi                   367753 non-null  object \n",
      " 7   PROVINCE              322253 non-null  object \n",
      " 8   DISTRICT              322210 non-null  object \n",
      " 9   SHOP_CODE             367719 non-null  object \n",
      " 10  CUSTOMER_TYPE_DATE    367753 non-null  object \n",
      " 11  chungdd_channel_type  144226 non-null  object \n",
      " 12  approver_code         68693 non-null   float64\n",
      " 13  dev_staff_code        367653 non-null  object \n",
      " 14  report_day            367753 non-null  object \n",
      " 15  channel_type          144226 non-null  object \n",
      " 16  s_channel_type_id     144112 non-null  float64\n",
      " 17  s_type                109674 non-null  float64\n",
      " 18  s_staff_code          144112 non-null  object \n",
      "dtypes: float64(3), object(16)\n",
      "memory usage: 53.3+ MB\n"
     ]
    }
   ],
   "source": [
    "df2.info()"
   ]
  },
  {
   "cell_type": "code",
   "execution_count": 14,
   "id": "3fbec0e7",
   "metadata": {},
   "outputs": [
    {
     "data": {
      "text/plain": [
       "goi\n",
       "goi 3    144278\n",
       "goi1     223476\n",
       "dtype: int64"
      ]
     },
     "execution_count": 14,
     "metadata": {},
     "output_type": "execute_result"
    }
   ],
   "source": [
    "df1.groupby(\"goi\").size()"
   ]
  },
  {
   "cell_type": "code",
   "execution_count": 15,
   "id": "d2ec9606",
   "metadata": {},
   "outputs": [
    {
     "data": {
      "text/plain": [
       "goi\n",
       "goi 3    144278\n",
       "goi1     223475\n",
       "dtype: int64"
      ]
     },
     "execution_count": 15,
     "metadata": {},
     "output_type": "execute_result"
    }
   ],
   "source": [
    "df2.groupby(\"goi\").size()"
   ]
  },
  {
   "cell_type": "code",
   "execution_count": 24,
   "id": "58d9cc19",
   "metadata": {},
   "outputs": [
    {
     "data": {
      "text/plain": [
       "[0, 0, 0, 0, 0, 0, 0, 0, 0, 0, 0, 0, 0, 0, 0, 0, 0, 0, 0]"
      ]
     },
     "execution_count": 24,
     "metadata": {},
     "output_type": "execute_result"
    }
   ],
   "source": [
    "li = [0] * 19\n",
    "li"
   ]
  },
  {
   "cell_type": "code",
   "execution_count": 32,
   "id": "86c7ddf6",
   "metadata": {},
   "outputs": [],
   "source": []
  },
  {
   "cell_type": "code",
   "execution_count": null,
   "id": "1425f4b3",
   "metadata": {},
   "outputs": [],
   "source": []
  },
  {
   "cell_type": "code",
   "execution_count": null,
   "id": "7dd05cd0",
   "metadata": {},
   "outputs": [],
   "source": []
  },
  {
   "cell_type": "code",
   "execution_count": 16,
   "id": "592271bd",
   "metadata": {},
   "outputs": [
    {
     "data": {
      "text/plain": [
       "735507"
      ]
     },
     "execution_count": 16,
     "metadata": {},
     "output_type": "execute_result"
    }
   ],
   "source": [
    "df3 = pd.concat([df1, df2])\n",
    "len(df3)"
   ]
  },
  {
   "cell_type": "code",
   "execution_count": 17,
   "id": "18cad949",
   "metadata": {},
   "outputs": [],
   "source": [
    "df3.to_csv(\"D:\\\\Projects\\\\Python\\\\data\\\\donnn_20_09\\\\file.csv\", index=False,encoding=\"utf-8-sig\")"
   ]
  },
  {
   "cell_type": "code",
   "execution_count": null,
   "id": "814d6214",
   "metadata": {},
   "outputs": [],
   "source": []
  },
  {
   "cell_type": "code",
   "execution_count": null,
   "id": "9deb4a65",
   "metadata": {},
   "outputs": [],
   "source": []
  }
 ],
 "metadata": {
  "kernelspec": {
   "display_name": "Python 3 (ipykernel)",
   "language": "python",
   "name": "python3"
  },
  "language_info": {
   "codemirror_mode": {
    "name": "ipython",
    "version": 3
   },
   "file_extension": ".py",
   "mimetype": "text/x-python",
   "name": "python",
   "nbconvert_exporter": "python",
   "pygments_lexer": "ipython3",
   "version": "3.9.6"
  }
 },
 "nbformat": 4,
 "nbformat_minor": 5
}
