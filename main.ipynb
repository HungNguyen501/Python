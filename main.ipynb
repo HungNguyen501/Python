{
 "cells": [
  {
   "cell_type": "code",
   "execution_count": 6,
   "id": "f777204f",
   "metadata": {},
   "outputs": [],
   "source": [
    "from joblib import Parallel, delayed\n",
    "import time\n",
    "import numpy as np\n",
    "import pandas as pd"
   ]
  },
  {
   "cell_type": "code",
   "execution_count": 7,
   "id": "4be3cfc0",
   "metadata": {},
   "outputs": [],
   "source": [
    "# Create sample CSV files\n",
    "for file_number in range(10):\n",
    "    values = np.random.uniform(size=(20000,25))\n",
    "    pd.DataFrame(values).to_csv(f\"Dummy {file_number}.csv\")"
   ]
  },
  {
   "cell_type": "code",
   "execution_count": 8,
   "id": "3be3561f",
   "metadata": {},
   "outputs": [
    {
     "name": "stdout",
     "output_type": "stream",
     "text": [
      "CSV: 1.992445468902588\n"
     ]
    }
   ],
   "source": [
    "start = time.time()\n",
    "df = pd.read_csv(\"Dummy 0.csv\")\n",
    "\n",
    "for file_number in range(1,10):\n",
    "    df.append(pd.read_csv(f\"Dummy {file_number}.csv\"))\n",
    "    \n",
    "end = time.time()\n",
    "print(\"CSV:\", end - start)"
   ]
  },
  {
   "cell_type": "code",
   "execution_count": 9,
   "id": "e5d8c664",
   "metadata": {},
   "outputs": [
    {
     "name": "stdout",
     "output_type": "stream",
     "text": [
      "CSV2: 1.7971904277801514\n"
     ]
    }
   ],
   "source": [
    "start = time.time()\n",
    "df = []\n",
    "\n",
    "for file_number in range(10):\n",
    "    temp = pd.read_csv(f\"Dummy {file_number}.csv\")\n",
    "    df.append(temp)\n",
    "    \n",
    "df = pd.concat(df, ignore_index=True)\n",
    "end = time.time()\n",
    "print(\"CSV2:\", end - start)"
   ]
  },
  {
   "cell_type": "code",
   "execution_count": 12,
   "id": "42ace4b1",
   "metadata": {},
   "outputs": [
    {
     "name": "stderr",
     "output_type": "stream",
     "text": [
      "[Parallel(n_jobs=-1)]: Using backend LokyBackend with 4 concurrent workers.\n",
      "[Parallel(n_jobs=-1)]: Done   5 out of  10 | elapsed:    2.1s remaining:    2.1s\n",
      "[Parallel(n_jobs=-1)]: Done   7 out of  10 | elapsed:    2.2s remaining:    0.9s\n"
     ]
    },
    {
     "name": "stdout",
     "output_type": "stream",
     "text": [
      "CSV//: 2.5630033016204834\n"
     ]
    },
    {
     "name": "stderr",
     "output_type": "stream",
     "text": [
      "[Parallel(n_jobs=-1)]: Done  10 out of  10 | elapsed:    2.4s finished\n"
     ]
    }
   ],
   "source": [
    "start = time.time()\n",
    "\n",
    "def loop(file_number):\n",
    "    return pd.read_csv(f\"Dummy {file_number}.csv\")\n",
    "\n",
    "df = Parallel(n_jobs=-1, verbose=10)(delayed(loop)(file_number) for file_number in range(10))\n",
    "df = pd.concat(df, ignore_index=True)\n",
    "\n",
    "end = time.time()\n",
    "print(\"CSV//:\", end - start)\n"
   ]
  },
  {
   "cell_type": "code",
   "execution_count": null,
   "id": "a1c88cca",
   "metadata": {},
   "outputs": [],
   "source": []
  },
  {
   "cell_type": "code",
   "execution_count": null,
   "id": "6725f4fc",
   "metadata": {},
   "outputs": [],
   "source": []
  }
 ],
 "metadata": {
  "kernelspec": {
   "display_name": "Python 3",
   "language": "python",
   "name": "python3"
  },
  "language_info": {
   "codemirror_mode": {
    "name": "ipython",
    "version": 3
   },
   "file_extension": ".py",
   "mimetype": "text/x-python",
   "name": "python",
   "nbconvert_exporter": "python",
   "pygments_lexer": "ipython3",
   "version": "3.7.3"
  }
 },
 "nbformat": 4,
 "nbformat_minor": 5
}
